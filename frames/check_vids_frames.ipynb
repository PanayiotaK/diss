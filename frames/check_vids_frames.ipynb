{
 "cells": [
  {
   "cell_type": "markdown",
   "metadata": {},
   "source": [
    "### check that all videos got processed\n"
   ]
  },
  {
   "cell_type": "code",
   "execution_count": null,
   "metadata": {},
   "outputs": [],
   "source": [
    "import pandas as pd\n",
    "import os\n",
    "dir = '/content/diss'\n",
    "with open('output.txt', 'w') as f:\n",
    "  for file in os.listdir(dir):\n",
    "    if \"all_vids\" in file:\n",
    "      df_all_vids = pd.read_csv(os.path.join(dir,file))\n",
    "      len_all_vids = len(df_all_vids.index)\n",
    "      frames_file_name = file.replace('all_vids_', 'has_frames_')\n",
    "      df_frames = pd.read_csv(os.path.join(dir,frames_file_name))\n",
    "      len_frames = len(df_frames)\n",
    "      \n",
    "      f.write('-----------\\n')\n",
    "      if len_frames != len_all_vids:\n",
    "        f.write('!ATTENTION!')\n",
    "      f.write(file)\n",
    "      f.write('\\n')\n",
    "      f.writelines ([\"all: \", str(len_all_vids), \"  frames: \", str(len_frames)])\n",
    "      f.write('\\n')\n",
    "      print(\"-------------------\")\n",
    "      # print(file)\n",
    "      if len_frames != len_all_vids:\n",
    "        print('!ATTENTION!')\n",
    "      # print(\"all: \", len_all_vids, \"frames: \", len_frames)\n",
    "      print()"
   ]
  },
  {
   "cell_type": "markdown",
   "metadata": {},
   "source": [
    "### check how many videos have wrong number of frames"
   ]
  },
  {
   "cell_type": "code",
   "execution_count": null,
   "metadata": {},
   "outputs": [],
   "source": [
    "import pandas as pd\n",
    "import os\n",
    "dir = '/content/diss'\n",
    "count = 0 \n",
    "with open('wrong_frames_no.txt', 'w') as f:\n",
    "  for file in os.listdir(dir):\n",
    "      if \"has_frames\" in file:      \n",
    "        df_frames = pd.read_csv(os.path.join(dir,file))\n",
    "        wrong_frames_no = (df_frames['no_frames'] != 50).sum()\n",
    "        count += wrong_frames_no\n",
    "        if (wrong_frames_no != 0 ):\n",
    "          print(file)\n",
    "          print(wrong_frames_no)\n",
    "          f.writelines([file, ': ', str(wrong_frames_no)])\n",
    "          f.write('\\n')\n",
    "          f.write('--------------------------')\n",
    "          f.write('\\n')\n",
    "          # df_wrong = df_frames.loc[df_frames['no_frames'] != 50]\n",
    "\n",
    "print(count)"
   ]
  },
  {
   "cell_type": "markdown",
   "metadata": {},
   "source": [
    "### check which videos have the wrong number of frames\n"
   ]
  },
  {
   "cell_type": "code",
   "execution_count": null,
   "metadata": {},
   "outputs": [],
   "source": [
    "dir = '/content/diss'\n",
    "all = pd.DataFrame()\n",
    "for file in os.listdir(dir):\n",
    "    if \"has_frames\" in file:      \n",
    "      df_frames = pd.read_csv(os.path.join(dir,file))\n",
    "      wrong_frames_no = (df_frames['no_frames'] != 50).sum()\n",
    "      df_wrong = df_frames.loc[df_frames['no_frames'] != 50]\n",
    "      # if (wrong_frames_no != 0 ):\n",
    "      #   print(file)\n",
    "      #   print(wrong_frames_no)\n",
    "        \n",
    "      all = pd.concat([df_wrong,all], ignore_index=True)\n",
    "\n",
    "print(len(all))\n",
    "all.to_csv('all_videos_with_wrong_frames.csv')"
   ]
  }
 ],
 "metadata": {
  "language_info": {
   "name": "python"
  },
  "orig_nbformat": 4
 },
 "nbformat": 4,
 "nbformat_minor": 2
}
