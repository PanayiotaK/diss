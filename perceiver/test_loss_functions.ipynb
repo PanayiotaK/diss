{
 "cells": [
  {
   "cell_type": "code",
   "execution_count": null,
   "metadata": {},
   "outputs": [],
   "source": [
    "from typing import Callable, List, Mapping, NamedTuple, Optional, Tuple, Union\n",
    "\n",
    "import haiku as hk\n",
    "import jax\n",
    "import jax.numpy as jnp\n",
    "import numpy as np\n",
    "import optax\n",
    "import chex\n",
    "\n",
    "\n",
    "def softmax_cross_entropy(logits, labels):\n",
    "    \n",
    "    \"\"\"Computes softmax cross entropy given logits and one-hot class labels.\n",
    "\n",
    "  Args:\n",
    "    logits: Logit output values.\n",
    "    labels: Ground truth one-hot-encoded labels.\n",
    "\n",
    "  Returns:\n",
    "    Loss value with the same shape as `labels`;\n",
    "    \"\"\"\n",
    "    return jnp.asarray(optax.softmax_cross_entropy(logits, labels))\n",
    "\n",
    "\n",
    "logits = jnp.asarray([[0.8,0.2], [0.8,0.2]])\n",
    "labels = jnp.asarray([[1.0, 0.0], [1.0, 0.0]])\n",
    "print(type(logits))\n",
    "print(\"softmax out: \", softmax_cross_entropy(logits, labels))\n",
    "# print(\"ln: \", jax.nn.log_softmax(logits, axis=-1))"
   ]
  },
  {
   "cell_type": "code",
   "execution_count": null,
   "metadata": {},
   "outputs": [],
   "source": [
    "def l1_loss(\n",
    "    predictions: chex.Array,\n",
    "    targets: Optional[chex.Array] = None,\n",
    ") -> chex.Array:\n",
    "    \n",
    "  chex.assert_type([predictions], float)\n",
    "  if targets is not None:\n",
    "    # Avoid broadcasting logic for \"-\" operator.\n",
    "    chex.assert_equal_shape((predictions, targets))\n",
    "  errors = (predictions - targets) if (targets is not None) else predictions\n",
    "  print(jnp.asarray(0.5 * abs(errors)))\n",
    "  return jnp.asarray(jnp.sum(0.5 * abs(errors), axis= -1))\n",
    "\n",
    "prediction = jnp.asarray([[2.2,3.0,2.0,1.0], [1.2,1.0,2.0,1.0] ])\n",
    "targets = jnp.asarray([[2.0, 2.0, 0.0, 5.0], [2.0, 2.0, 0.0, 5.0]])\n",
    "out = l1_loss(prediction, targets)\n",
    "print(\"L1: \", out )\n",
    "print(\"type: \", type(out))"
   ]
  }
 ],
 "metadata": {
  "language_info": {
   "name": "python"
  },
  "orig_nbformat": 4
 },
 "nbformat": 4,
 "nbformat_minor": 2
}
